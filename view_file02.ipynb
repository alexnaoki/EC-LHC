{
 "cells": [
  {
   "cell_type": "code",
   "execution_count": 1,
   "metadata": {},
   "outputs": [],
   "source": [
    "%load_ext autoreload\n",
    "%autoreload 2"
   ]
  },
  {
   "cell_type": "markdown",
   "metadata": {},
   "source": [
    "C:\\Users\\alex-\\Mestrado\\Test_Results\\EddyPro_results_try02"
   ]
  },
  {
   "cell_type": "markdown",
   "metadata": {},
   "source": [
    "C:\\Users\\alex-\\Mestrado\\Test_Results\\EddyPro_results_try02\\p01_01_r04\\eddypro_binned_cospectra"
   ]
  },
  {
   "cell_type": "markdown",
   "metadata": {},
   "source": [
    "C:\\Users\\alex-\\Mestrado\\Test_Results\\EddyPro_results_try02\\p02_01_r04\\eddypro_binned_cospectra"
   ]
  },
  {
   "cell_type": "markdown",
   "metadata": {},
   "source": [
    "C:\\Users\\alex-\\Mestrado\\Test_Results\\EddyPro_results_metafile04\n",
    "\n",
    "C:\\Users\\alex-\\Mestrado\\Test_Results\\EddyPro_results_metafile04\\p01_00\n",
    "C:\\Users\\alex-\\Mestrado\\Test_Results\\EddyPro_results_metafile04\\p02_00"
   ]
  },
  {
   "cell_type": "markdown",
   "metadata": {},
   "source": [
    "### BINNED COSPECTRA\n",
    "#### p01_00\n",
    "C:\\Users\\alex-\\Mestrado\\Test_Results\\EddyPro_results_metafile04\\p01_00\\eddypro_binned_cospectra\n",
    "\n",
    "#### p02_00\n",
    "C:\\Users\\alex-\\Mestrado\\Test_Results\\EddyPro_results_metafile04\\p02_00\\eddypro_binned_cospectra\n",
    "\n",
    "#### p03_00\n",
    "C:\\Users\\alex-\\Mestrado\\Test_Results\\EddyPro_results_metafile04\\p03_00\\eddypro_binned_cospectra"
   ]
  },
  {
   "cell_type": "markdown",
   "metadata": {},
   "source": [
    "E:\\Fase01_Processamento\\EddyPro\n",
    "\n",
    "E:\\Fase01_Processamento\\EddyPro\\p01_00\\eddypro_binned_cospectra\n",
    "E:\\Fase01_Processamento\\EddyPro\\p02_00\\eddypro_binned_cospectra"
   ]
  },
  {
   "cell_type": "code",
   "execution_count": 2,
   "metadata": {},
   "outputs": [],
   "source": [
    "import view_files02"
   ]
  },
  {
   "cell_type": "code",
   "execution_count": 3,
   "metadata": {},
   "outputs": [
    {
     "data": {
      "application/vnd.jupyter.widget-view+json": {
       "model_id": "8b5a995abe904c64ade3a5973adf2192",
       "version_major": 2,
       "version_minor": 0
      },
      "text/plain": [
       "Tab(children=(VBox(children=(Accordion(children=(VBox(children=(HBox(children=(Text(value='', layout=Layout(wi…"
      ]
     },
     "metadata": {},
     "output_type": "display_data"
    }
   ],
   "source": [
    "a = view_files02.Viewer()"
   ]
  },
  {
   "cell_type": "code",
   "execution_count": null,
   "metadata": {},
   "outputs": [],
   "source": []
  }
 ],
 "metadata": {
  "kernelspec": {
   "display_name": "EC_LHC",
   "language": "python",
   "name": "ec_lhc"
  },
  "language_info": {
   "codemirror_mode": {
    "name": "ipython",
    "version": 3
   },
   "file_extension": ".py",
   "mimetype": "text/x-python",
   "name": "python",
   "nbconvert_exporter": "python",
   "pygments_lexer": "ipython3",
   "version": "3.7.6"
  }
 },
 "nbformat": 4,
 "nbformat_minor": 4
}
