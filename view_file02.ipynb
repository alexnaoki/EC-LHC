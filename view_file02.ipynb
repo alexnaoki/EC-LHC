{
 "cells": [
  {
   "cell_type": "code",
   "execution_count": 1,
   "metadata": {},
   "outputs": [],
   "source": [
    "%load_ext autoreload\n",
    "%autoreload 2"
   ]
  },
  {
   "cell_type": "markdown",
   "metadata": {},
   "source": [
    "C:\\Users\\alex-\\Mestrado\\Test_Results\\EddyPro_results_try02"
   ]
  },
  {
   "cell_type": "markdown",
   "metadata": {},
   "source": [
    "C:\\Users\\alex-\\Mestrado\\Test_Results\\EddyPro_results_try02\\p01_01_r04\\eddypro_binned_cospectra"
   ]
  },
  {
   "cell_type": "code",
   "execution_count": 2,
   "metadata": {},
   "outputs": [],
   "source": [
    "import view_files02"
   ]
  },
  {
   "cell_type": "code",
   "execution_count": 58,
   "metadata": {},
   "outputs": [
    {
     "data": {
      "application/vnd.jupyter.widget-view+json": {
       "model_id": "2b3c3135ca2947cba57fbd0251207d10",
       "version_major": 2,
       "version_minor": 0
      },
      "text/plain": [
       "Tab(children=(VBox(children=(HBox(children=(Text(value='', layout=Layout(width='90%'), placeholder='Insert Fol…"
      ]
     },
     "metadata": {},
     "output_type": "display_data"
    }
   ],
   "source": [
    "a = view_files02.Viewer()"
   ]
  },
  {
   "cell_type": "code",
   "execution_count": null,
   "metadata": {},
   "outputs": [],
   "source": []
  },
  {
   "cell_type": "code",
   "execution_count": 25,
   "metadata": {},
   "outputs": [],
   "source": [
    "x_scale_01_04 = bq.OrdinalScale(domain=[(dt.datetime(2000,1,1) + dt.timedelta(minutes=i*30)).strftime('%H:%M') for i in range(48)])\n",
    "y_scale_01_05 = bq.LinearScale()"
   ]
  },
  {
   "cell_type": "code",
   "execution_count": 27,
   "metadata": {},
   "outputs": [],
   "source": [
    "x_axis_01_04 = bq.Axis(scale=x_scale_01_04, label='x',tick_rotate=270)\n",
    "y_axis_01_05 = bq.Axis(scale=y_scale_01_05, label='y', orientation='vertical')"
   ]
  },
  {
   "cell_type": "code",
   "execution_count": 29,
   "metadata": {},
   "outputs": [],
   "source": [
    "fig_01_04 = bq.Figure(marks=[], axes=[x_axis_01_04, y_axis_01_05], animation_duration=500)\n"
   ]
  },
  {
   "cell_type": "code",
   "execution_count": 30,
   "metadata": {},
   "outputs": [],
   "source": [
    "bar_01 = bq.Bars(scales={'x':x_scale_01_04, 'y':y_scale_01_05})\n",
    "fig_01_04.marks = [bar_01]"
   ]
  },
  {
   "cell_type": "code",
   "execution_count": 33,
   "metadata": {},
   "outputs": [],
   "source": [
    "x_axis_01_04.label = 'teste'\n",
    "bar_01.x = ['00:00','01:00','03:30','16:30']\n",
    "bar_01.y = [1,2,3]"
   ]
  },
  {
   "cell_type": "code",
   "execution_count": 42,
   "metadata": {},
   "outputs": [
    {
     "name": "stdout",
     "output_type": "stream",
     "text": [
      "Bars(colors=['steelblue'], interactions={'hover': 'tooltip'}, scales={'x': OrdinalScale(domain=['00:00', '00:30', '01:00', '01:30', '02:00', '02:30', '03:00', '03:30', '04:00', '04:30', '05:00', '05:30', '06:00', '06:30', '07:00', '07:30', '08:00', '08:30', '09:00', '09:30', '10:00', '10:30', '11:00', '11:30', '12:00', '12:30', '13:00', '13:30', '14:00', '14:30', '15:00', '15:30', '16:00', '16:30', '17:00', '17:30', '18:00', '18:30', '19:00', '19:30', '20:00', '20:30', '21:00', '21:30', '22:00', '22:30', '23:00', '23:30']), 'y': LinearScale()}, scales_metadata={'x': {'orientation': 'horizontal', 'dimension': 'x'}, 'y': {'orientation': 'vertical', 'dimension': 'y'}, 'color': {'dimension': 'color'}}, tooltip_style={'opacity': 0.9}, x=array(['00:00', '01:00', '03:30', '16:30'], dtype='<U5'), y=array([1, 2, 3]))\n"
     ]
    }
   ],
   "source": [
    "print(bar_01)"
   ]
  },
  {
   "cell_type": "code",
   "execution_count": 32,
   "metadata": {},
   "outputs": [
    {
     "data": {
      "application/vnd.jupyter.widget-view+json": {
       "model_id": "d0fe233776714d6489edc86b2246210f",
       "version_major": 2,
       "version_minor": 0
      },
      "text/plain": [
       "Figure(animation_duration=500, axes=[Axis(label='teste', scale=OrdinalScale(domain=['00:00', '00:30', '01:00',…"
      ]
     },
     "metadata": {},
     "output_type": "display_data"
    }
   ],
   "source": [
    "display(fig_01_04)"
   ]
  },
  {
   "cell_type": "code",
   "execution_count": null,
   "metadata": {},
   "outputs": [],
   "source": []
  },
  {
   "cell_type": "code",
   "execution_count": 382,
   "metadata": {},
   "outputs": [],
   "source": [
    "a = [0, 1,2,3]"
   ]
  },
  {
   "cell_type": "code",
   "execution_count": 383,
   "metadata": {},
   "outputs": [
    {
     "data": {
      "text/plain": [
       "0"
      ]
     },
     "execution_count": 383,
     "metadata": {},
     "output_type": "execute_result"
    }
   ],
   "source": [
    "min(a)"
   ]
  },
  {
   "cell_type": "code",
   "execution_count": null,
   "metadata": {},
   "outputs": [],
   "source": []
  },
  {
   "cell_type": "code",
   "execution_count": 26,
   "metadata": {},
   "outputs": [],
   "source": [
    "import bqplot as bq\n",
    "import numpy as np"
   ]
  },
  {
   "cell_type": "code",
   "execution_count": 27,
   "metadata": {},
   "outputs": [],
   "source": [
    "import datetime as dt"
   ]
  },
  {
   "cell_type": "code",
   "execution_count": 28,
   "metadata": {},
   "outputs": [],
   "source": [
    "import pandas as pd"
   ]
  },
  {
   "cell_type": "code",
   "execution_count": null,
   "metadata": {},
   "outputs": [],
   "source": []
  },
  {
   "cell_type": "code",
   "execution_count": null,
   "metadata": {},
   "outputs": [],
   "source": []
  },
  {
   "cell_type": "code",
   "execution_count": 186,
   "metadata": {},
   "outputs": [],
   "source": [
    "date01 = [dt.datetime(2018,1,1) + dt.timedelta(minutes=i*30) for i in range(100)]\n",
    "time01 = [date01[i].time() for i in range(len(date01))]\n",
    "s = np.random.uniform(size=len(date01))"
   ]
  },
  {
   "cell_type": "code",
   "execution_count": null,
   "metadata": {},
   "outputs": [],
   "source": []
  },
  {
   "cell_type": "code",
   "execution_count": 187,
   "metadata": {},
   "outputs": [],
   "source": [
    "df = pd.DataFrame({'date01':date01,'time01': time01, 's': s})"
   ]
  },
  {
   "cell_type": "code",
   "execution_count": 188,
   "metadata": {},
   "outputs": [
    {
     "data": {
      "text/html": [
       "<div>\n",
       "<style scoped>\n",
       "    .dataframe tbody tr th:only-of-type {\n",
       "        vertical-align: middle;\n",
       "    }\n",
       "\n",
       "    .dataframe tbody tr th {\n",
       "        vertical-align: top;\n",
       "    }\n",
       "\n",
       "    .dataframe thead th {\n",
       "        text-align: right;\n",
       "    }\n",
       "</style>\n",
       "<table border=\"1\" class=\"dataframe\">\n",
       "  <thead>\n",
       "    <tr style=\"text-align: right;\">\n",
       "      <th></th>\n",
       "      <th>date01</th>\n",
       "      <th>time01</th>\n",
       "      <th>s</th>\n",
       "    </tr>\n",
       "  </thead>\n",
       "  <tbody>\n",
       "    <tr>\n",
       "      <th>0</th>\n",
       "      <td>2018-01-01 00:00:00</td>\n",
       "      <td>00:00:00</td>\n",
       "      <td>0.073869</td>\n",
       "    </tr>\n",
       "    <tr>\n",
       "      <th>1</th>\n",
       "      <td>2018-01-01 00:30:00</td>\n",
       "      <td>00:30:00</td>\n",
       "      <td>0.141022</td>\n",
       "    </tr>\n",
       "    <tr>\n",
       "      <th>2</th>\n",
       "      <td>2018-01-01 01:00:00</td>\n",
       "      <td>01:00:00</td>\n",
       "      <td>0.815322</td>\n",
       "    </tr>\n",
       "    <tr>\n",
       "      <th>3</th>\n",
       "      <td>2018-01-01 01:30:00</td>\n",
       "      <td>01:30:00</td>\n",
       "      <td>0.803293</td>\n",
       "    </tr>\n",
       "    <tr>\n",
       "      <th>4</th>\n",
       "      <td>2018-01-01 02:00:00</td>\n",
       "      <td>02:00:00</td>\n",
       "      <td>0.560331</td>\n",
       "    </tr>\n",
       "  </tbody>\n",
       "</table>\n",
       "</div>"
      ],
      "text/plain": [
       "               date01    time01         s\n",
       "0 2018-01-01 00:00:00  00:00:00  0.073869\n",
       "1 2018-01-01 00:30:00  00:30:00  0.141022\n",
       "2 2018-01-01 01:00:00  01:00:00  0.815322\n",
       "3 2018-01-01 01:30:00  01:30:00  0.803293\n",
       "4 2018-01-01 02:00:00  02:00:00  0.560331"
      ]
     },
     "execution_count": 188,
     "metadata": {},
     "output_type": "execute_result"
    }
   ],
   "source": [
    "df.head()"
   ]
  },
  {
   "cell_type": "code",
   "execution_count": 189,
   "metadata": {},
   "outputs": [
    {
     "data": {
      "text/plain": [
       "date01    datetime64[ns]\n",
       "time01            object\n",
       "s                float64\n",
       "dtype: object"
      ]
     },
     "execution_count": 189,
     "metadata": {},
     "output_type": "execute_result"
    }
   ],
   "source": [
    "df.dtypes"
   ]
  },
  {
   "cell_type": "code",
   "execution_count": 190,
   "metadata": {},
   "outputs": [],
   "source": [
    "x = '00:00'\n",
    "t = dt.datetime.strptime(x,'%H:%M')"
   ]
  },
  {
   "cell_type": "code",
   "execution_count": 191,
   "metadata": {},
   "outputs": [
    {
     "data": {
      "text/plain": [
       "datetime.time(0, 0)"
      ]
     },
     "execution_count": 191,
     "metadata": {},
     "output_type": "execute_result"
    }
   ],
   "source": [
    "t.time()"
   ]
  },
  {
   "cell_type": "code",
   "execution_count": 192,
   "metadata": {},
   "outputs": [
    {
     "data": {
      "text/plain": [
       "0     0.073869\n",
       "48    0.993403\n",
       "96    0.862594\n",
       "Name: s, dtype: float64"
      ]
     },
     "execution_count": 192,
     "metadata": {},
     "output_type": "execute_result"
    }
   ],
   "source": [
    "df.loc[df['date01'].dt.time == t.time(), 's']"
   ]
  },
  {
   "cell_type": "code",
   "execution_count": 193,
   "metadata": {
    "collapsed": true,
    "jupyter": {
     "outputs_hidden": true
    }
   },
   "outputs": [
    {
     "data": {
      "text/plain": [
       "['00:00',\n",
       " '00:30',\n",
       " '01:00',\n",
       " '01:30',\n",
       " '02:00',\n",
       " '02:30',\n",
       " '03:00',\n",
       " '03:30',\n",
       " '04:00',\n",
       " '04:30',\n",
       " '05:00',\n",
       " '05:30',\n",
       " '06:00',\n",
       " '06:30',\n",
       " '07:00',\n",
       " '07:30',\n",
       " '08:00',\n",
       " '08:30',\n",
       " '09:00',\n",
       " '09:30',\n",
       " '10:00',\n",
       " '10:30',\n",
       " '11:00',\n",
       " '11:30',\n",
       " '12:00',\n",
       " '12:30',\n",
       " '13:00',\n",
       " '13:30',\n",
       " '14:00',\n",
       " '14:30',\n",
       " '15:00',\n",
       " '15:30',\n",
       " '16:00',\n",
       " '16:30',\n",
       " '17:00',\n",
       " '17:30',\n",
       " '18:00',\n",
       " '18:30',\n",
       " '19:00',\n",
       " '19:30',\n",
       " '20:00',\n",
       " '20:30',\n",
       " '21:00',\n",
       " '21:30',\n",
       " '22:00',\n",
       " '22:30',\n",
       " '23:00',\n",
       " '23:30']"
      ]
     },
     "execution_count": 193,
     "metadata": {},
     "output_type": "execute_result"
    }
   ],
   "source": [
    "# list(df['time01'].dt.strftime('%H:%M'))\n",
    "list(df['date01'].dt.strftime('%H:%M').unique())"
   ]
  },
  {
   "cell_type": "code",
   "execution_count": null,
   "metadata": {},
   "outputs": [],
   "source": []
  },
  {
   "cell_type": "code",
   "execution_count": 194,
   "metadata": {},
   "outputs": [],
   "source": [
    "# x_scale = bq.LinearScale()\n",
    "x_scale = bq.OrdinalScale(domain=[(dt.datetime(2000,1,1) + dt.timedelta(minutes=i*30)).strftime('%H:%M') for i in range(48)])\n",
    "# x_scale = bq.DateScale()\n",
    "y_scale = bq.LinearScale()\n",
    "\n",
    "x_axis = bq.Axis(scale=x_scale, label='x',tick_rotate=270)\n",
    "y_axis = bq.Axis(scale=y_scale, label='y', orientation='vertical')\n",
    "fig01 = bq.Figure(marks=[], axes=[x_axis, y_axis], animation_duration=500)"
   ]
  },
  {
   "cell_type": "code",
   "execution_count": 195,
   "metadata": {},
   "outputs": [],
   "source": [
    "bar01 = bq.Bars(scales={'x':x_scale, 'y':y_scale})\n",
    "fig01.marks = [bar01]"
   ]
  },
  {
   "cell_type": "code",
   "execution_count": 196,
   "metadata": {},
   "outputs": [],
   "source": [
    "# bar01.x = ['00:00','01:00','03:30','16:30']\n",
    "\n",
    "bar01.x = list(df['date01'].dt.strftime('%H:%M').unique())\n",
    "bar01.y = [1,2,3,50]\n",
    "\n",
    "# bar01.x = list(set(df['time'].to_list()))\n",
    "# bar01.y = df.groupby(by='time')['s'].count().to_list()"
   ]
  },
  {
   "cell_type": "code",
   "execution_count": 197,
   "metadata": {},
   "outputs": [
    {
     "data": {
      "text/plain": [
       "'00:00'"
      ]
     },
     "execution_count": 197,
     "metadata": {},
     "output_type": "execute_result"
    }
   ],
   "source": [
    "(df.groupby(by='time01')['s'].count().index[0]).strftime('%H:%M')"
   ]
  },
  {
   "cell_type": "code",
   "execution_count": 198,
   "metadata": {},
   "outputs": [
    {
     "data": {
      "text/plain": [
       "(0, 0)"
      ]
     },
     "execution_count": 198,
     "metadata": {},
     "output_type": "execute_result"
    }
   ],
   "source": [
    "df.groupby(by=[df.date01.dt.hour, df.date01.dt.minute])['s'].count().index[0]"
   ]
  },
  {
   "cell_type": "code",
   "execution_count": 199,
   "metadata": {
    "collapsed": true,
    "jupyter": {
     "outputs_hidden": true
    }
   },
   "outputs": [
    {
     "data": {
      "text/plain": [
       "[3,\n",
       " 3,\n",
       " 3,\n",
       " 3,\n",
       " 2,\n",
       " 2,\n",
       " 2,\n",
       " 2,\n",
       " 2,\n",
       " 2,\n",
       " 2,\n",
       " 2,\n",
       " 2,\n",
       " 2,\n",
       " 2,\n",
       " 2,\n",
       " 2,\n",
       " 2,\n",
       " 2,\n",
       " 2,\n",
       " 2,\n",
       " 2,\n",
       " 2,\n",
       " 2,\n",
       " 2,\n",
       " 2,\n",
       " 2,\n",
       " 2,\n",
       " 2,\n",
       " 2,\n",
       " 2,\n",
       " 2,\n",
       " 2,\n",
       " 2,\n",
       " 2,\n",
       " 2,\n",
       " 2,\n",
       " 2,\n",
       " 2,\n",
       " 2,\n",
       " 2,\n",
       " 2,\n",
       " 2,\n",
       " 2,\n",
       " 2,\n",
       " 2,\n",
       " 2,\n",
       " 2]"
      ]
     },
     "execution_count": 199,
     "metadata": {},
     "output_type": "execute_result"
    }
   ],
   "source": [
    "df.groupby(by=[df.date01.dt.hour, df.date01.dt.minute])['s'].count().to_list()"
   ]
  },
  {
   "cell_type": "code",
   "execution_count": 84,
   "metadata": {},
   "outputs": [
    {
     "data": {
      "text/plain": [
       "Index([00:00:00, 00:30:00, 01:00:00, 01:30:00, 02:00:00, 02:30:00, 03:00:00,\n",
       "       03:30:00, 04:00:00, 04:30:00, 05:00:00, 05:30:00, 06:00:00, 06:30:00,\n",
       "       07:00:00, 07:30:00, 08:00:00, 08:30:00, 09:00:00, 09:30:00, 10:00:00,\n",
       "       10:30:00, 11:00:00, 11:30:00, 12:00:00, 12:30:00, 13:00:00, 13:30:00,\n",
       "       14:00:00, 14:30:00, 15:00:00, 15:30:00, 16:00:00, 16:30:00, 17:00:00,\n",
       "       17:30:00, 18:00:00, 18:30:00, 19:00:00, 19:30:00, 20:00:00, 20:30:00,\n",
       "       21:00:00, 21:30:00, 22:00:00, 22:30:00, 23:00:00, 23:30:00],\n",
       "      dtype='object', name='date01')"
      ]
     },
     "execution_count": 84,
     "metadata": {},
     "output_type": "execute_result"
    }
   ],
   "source": [
    "df.groupby(by=df['date01'].dt.time)['s'].count().index"
   ]
  },
  {
   "cell_type": "code",
   "execution_count": 136,
   "metadata": {
    "collapsed": true,
    "jupyter": {
     "outputs_hidden": true
    }
   },
   "outputs": [
    {
     "data": {
      "text/plain": [
       "['00:00',\n",
       " '00:30',\n",
       " '01:00',\n",
       " '01:30',\n",
       " '02:00',\n",
       " '02:30',\n",
       " '03:00',\n",
       " '03:30',\n",
       " '04:00',\n",
       " '04:30',\n",
       " '05:00',\n",
       " '05:30',\n",
       " '06:00',\n",
       " '06:30',\n",
       " '07:00',\n",
       " '07:30',\n",
       " '08:00',\n",
       " '08:30',\n",
       " '09:00',\n",
       " '09:30',\n",
       " '10:00',\n",
       " '10:30',\n",
       " '11:00',\n",
       " '11:30',\n",
       " '12:00',\n",
       " '12:30',\n",
       " '13:00',\n",
       " '13:30',\n",
       " '14:00',\n",
       " '14:30',\n",
       " '15:00',\n",
       " '15:30',\n",
       " '16:00',\n",
       " '16:30',\n",
       " '17:00',\n",
       " '17:30',\n",
       " '18:00',\n",
       " '18:30',\n",
       " '19:00',\n",
       " '19:30',\n",
       " '20:00',\n",
       " '20:30',\n",
       " '21:00',\n",
       " '21:30',\n",
       " '22:00',\n",
       " '22:30',\n",
       " '23:00',\n",
       " '23:30']"
      ]
     },
     "execution_count": 136,
     "metadata": {},
     "output_type": "execute_result"
    }
   ],
   "source": [
    "list(df['date01'].dt.strftime('%H:%M').unique())"
   ]
  },
  {
   "cell_type": "code",
   "execution_count": 155,
   "metadata": {
    "collapsed": true,
    "jupyter": {
     "outputs_hidden": true
    }
   },
   "outputs": [
    {
     "data": {
      "text/html": [
       "<div>\n",
       "<style scoped>\n",
       "    .dataframe tbody tr th:only-of-type {\n",
       "        vertical-align: middle;\n",
       "    }\n",
       "\n",
       "    .dataframe tbody tr th {\n",
       "        vertical-align: top;\n",
       "    }\n",
       "\n",
       "    .dataframe thead th {\n",
       "        text-align: right;\n",
       "    }\n",
       "</style>\n",
       "<table border=\"1\" class=\"dataframe\">\n",
       "  <thead>\n",
       "    <tr style=\"text-align: right;\">\n",
       "      <th></th>\n",
       "      <th>date01</th>\n",
       "      <th>time01</th>\n",
       "      <th>s</th>\n",
       "    </tr>\n",
       "    <tr>\n",
       "      <th>date01</th>\n",
       "      <th></th>\n",
       "      <th></th>\n",
       "      <th></th>\n",
       "    </tr>\n",
       "  </thead>\n",
       "  <tbody>\n",
       "    <tr>\n",
       "      <th>00:00:00</th>\n",
       "      <td>3</td>\n",
       "      <td>3</td>\n",
       "      <td>3</td>\n",
       "    </tr>\n",
       "    <tr>\n",
       "      <th>00:30:00</th>\n",
       "      <td>3</td>\n",
       "      <td>3</td>\n",
       "      <td>3</td>\n",
       "    </tr>\n",
       "    <tr>\n",
       "      <th>01:00:00</th>\n",
       "      <td>3</td>\n",
       "      <td>3</td>\n",
       "      <td>3</td>\n",
       "    </tr>\n",
       "    <tr>\n",
       "      <th>01:30:00</th>\n",
       "      <td>3</td>\n",
       "      <td>3</td>\n",
       "      <td>3</td>\n",
       "    </tr>\n",
       "    <tr>\n",
       "      <th>02:00:00</th>\n",
       "      <td>2</td>\n",
       "      <td>2</td>\n",
       "      <td>2</td>\n",
       "    </tr>\n",
       "    <tr>\n",
       "      <th>02:30:00</th>\n",
       "      <td>2</td>\n",
       "      <td>2</td>\n",
       "      <td>2</td>\n",
       "    </tr>\n",
       "    <tr>\n",
       "      <th>03:00:00</th>\n",
       "      <td>2</td>\n",
       "      <td>2</td>\n",
       "      <td>2</td>\n",
       "    </tr>\n",
       "    <tr>\n",
       "      <th>03:30:00</th>\n",
       "      <td>2</td>\n",
       "      <td>2</td>\n",
       "      <td>2</td>\n",
       "    </tr>\n",
       "    <tr>\n",
       "      <th>04:00:00</th>\n",
       "      <td>2</td>\n",
       "      <td>2</td>\n",
       "      <td>2</td>\n",
       "    </tr>\n",
       "    <tr>\n",
       "      <th>04:30:00</th>\n",
       "      <td>2</td>\n",
       "      <td>2</td>\n",
       "      <td>2</td>\n",
       "    </tr>\n",
       "    <tr>\n",
       "      <th>05:00:00</th>\n",
       "      <td>2</td>\n",
       "      <td>2</td>\n",
       "      <td>2</td>\n",
       "    </tr>\n",
       "    <tr>\n",
       "      <th>05:30:00</th>\n",
       "      <td>2</td>\n",
       "      <td>2</td>\n",
       "      <td>2</td>\n",
       "    </tr>\n",
       "    <tr>\n",
       "      <th>06:00:00</th>\n",
       "      <td>2</td>\n",
       "      <td>2</td>\n",
       "      <td>2</td>\n",
       "    </tr>\n",
       "    <tr>\n",
       "      <th>06:30:00</th>\n",
       "      <td>2</td>\n",
       "      <td>2</td>\n",
       "      <td>2</td>\n",
       "    </tr>\n",
       "    <tr>\n",
       "      <th>07:00:00</th>\n",
       "      <td>2</td>\n",
       "      <td>2</td>\n",
       "      <td>2</td>\n",
       "    </tr>\n",
       "    <tr>\n",
       "      <th>07:30:00</th>\n",
       "      <td>2</td>\n",
       "      <td>2</td>\n",
       "      <td>2</td>\n",
       "    </tr>\n",
       "    <tr>\n",
       "      <th>08:00:00</th>\n",
       "      <td>2</td>\n",
       "      <td>2</td>\n",
       "      <td>2</td>\n",
       "    </tr>\n",
       "    <tr>\n",
       "      <th>08:30:00</th>\n",
       "      <td>2</td>\n",
       "      <td>2</td>\n",
       "      <td>2</td>\n",
       "    </tr>\n",
       "    <tr>\n",
       "      <th>09:00:00</th>\n",
       "      <td>2</td>\n",
       "      <td>2</td>\n",
       "      <td>2</td>\n",
       "    </tr>\n",
       "    <tr>\n",
       "      <th>09:30:00</th>\n",
       "      <td>2</td>\n",
       "      <td>2</td>\n",
       "      <td>2</td>\n",
       "    </tr>\n",
       "    <tr>\n",
       "      <th>10:00:00</th>\n",
       "      <td>2</td>\n",
       "      <td>2</td>\n",
       "      <td>2</td>\n",
       "    </tr>\n",
       "    <tr>\n",
       "      <th>10:30:00</th>\n",
       "      <td>2</td>\n",
       "      <td>2</td>\n",
       "      <td>2</td>\n",
       "    </tr>\n",
       "    <tr>\n",
       "      <th>11:00:00</th>\n",
       "      <td>2</td>\n",
       "      <td>2</td>\n",
       "      <td>2</td>\n",
       "    </tr>\n",
       "    <tr>\n",
       "      <th>11:30:00</th>\n",
       "      <td>2</td>\n",
       "      <td>2</td>\n",
       "      <td>2</td>\n",
       "    </tr>\n",
       "    <tr>\n",
       "      <th>12:00:00</th>\n",
       "      <td>2</td>\n",
       "      <td>2</td>\n",
       "      <td>2</td>\n",
       "    </tr>\n",
       "    <tr>\n",
       "      <th>12:30:00</th>\n",
       "      <td>2</td>\n",
       "      <td>2</td>\n",
       "      <td>2</td>\n",
       "    </tr>\n",
       "    <tr>\n",
       "      <th>13:00:00</th>\n",
       "      <td>2</td>\n",
       "      <td>2</td>\n",
       "      <td>2</td>\n",
       "    </tr>\n",
       "    <tr>\n",
       "      <th>13:30:00</th>\n",
       "      <td>2</td>\n",
       "      <td>2</td>\n",
       "      <td>2</td>\n",
       "    </tr>\n",
       "    <tr>\n",
       "      <th>14:00:00</th>\n",
       "      <td>2</td>\n",
       "      <td>2</td>\n",
       "      <td>2</td>\n",
       "    </tr>\n",
       "    <tr>\n",
       "      <th>14:30:00</th>\n",
       "      <td>2</td>\n",
       "      <td>2</td>\n",
       "      <td>2</td>\n",
       "    </tr>\n",
       "    <tr>\n",
       "      <th>15:00:00</th>\n",
       "      <td>2</td>\n",
       "      <td>2</td>\n",
       "      <td>2</td>\n",
       "    </tr>\n",
       "    <tr>\n",
       "      <th>15:30:00</th>\n",
       "      <td>2</td>\n",
       "      <td>2</td>\n",
       "      <td>2</td>\n",
       "    </tr>\n",
       "    <tr>\n",
       "      <th>16:00:00</th>\n",
       "      <td>2</td>\n",
       "      <td>2</td>\n",
       "      <td>2</td>\n",
       "    </tr>\n",
       "    <tr>\n",
       "      <th>16:30:00</th>\n",
       "      <td>2</td>\n",
       "      <td>2</td>\n",
       "      <td>2</td>\n",
       "    </tr>\n",
       "    <tr>\n",
       "      <th>17:00:00</th>\n",
       "      <td>2</td>\n",
       "      <td>2</td>\n",
       "      <td>2</td>\n",
       "    </tr>\n",
       "    <tr>\n",
       "      <th>17:30:00</th>\n",
       "      <td>2</td>\n",
       "      <td>2</td>\n",
       "      <td>2</td>\n",
       "    </tr>\n",
       "    <tr>\n",
       "      <th>18:00:00</th>\n",
       "      <td>2</td>\n",
       "      <td>2</td>\n",
       "      <td>2</td>\n",
       "    </tr>\n",
       "    <tr>\n",
       "      <th>18:30:00</th>\n",
       "      <td>2</td>\n",
       "      <td>2</td>\n",
       "      <td>2</td>\n",
       "    </tr>\n",
       "    <tr>\n",
       "      <th>19:00:00</th>\n",
       "      <td>2</td>\n",
       "      <td>2</td>\n",
       "      <td>2</td>\n",
       "    </tr>\n",
       "    <tr>\n",
       "      <th>19:30:00</th>\n",
       "      <td>2</td>\n",
       "      <td>2</td>\n",
       "      <td>2</td>\n",
       "    </tr>\n",
       "    <tr>\n",
       "      <th>20:00:00</th>\n",
       "      <td>2</td>\n",
       "      <td>2</td>\n",
       "      <td>2</td>\n",
       "    </tr>\n",
       "    <tr>\n",
       "      <th>20:30:00</th>\n",
       "      <td>2</td>\n",
       "      <td>2</td>\n",
       "      <td>2</td>\n",
       "    </tr>\n",
       "    <tr>\n",
       "      <th>21:00:00</th>\n",
       "      <td>2</td>\n",
       "      <td>2</td>\n",
       "      <td>2</td>\n",
       "    </tr>\n",
       "    <tr>\n",
       "      <th>21:30:00</th>\n",
       "      <td>2</td>\n",
       "      <td>2</td>\n",
       "      <td>2</td>\n",
       "    </tr>\n",
       "    <tr>\n",
       "      <th>22:00:00</th>\n",
       "      <td>2</td>\n",
       "      <td>2</td>\n",
       "      <td>2</td>\n",
       "    </tr>\n",
       "    <tr>\n",
       "      <th>22:30:00</th>\n",
       "      <td>2</td>\n",
       "      <td>2</td>\n",
       "      <td>2</td>\n",
       "    </tr>\n",
       "    <tr>\n",
       "      <th>23:00:00</th>\n",
       "      <td>2</td>\n",
       "      <td>2</td>\n",
       "      <td>2</td>\n",
       "    </tr>\n",
       "    <tr>\n",
       "      <th>23:30:00</th>\n",
       "      <td>2</td>\n",
       "      <td>2</td>\n",
       "      <td>2</td>\n",
       "    </tr>\n",
       "  </tbody>\n",
       "</table>\n",
       "</div>"
      ],
      "text/plain": [
       "          date01  time01  s\n",
       "date01                     \n",
       "00:00:00       3       3  3\n",
       "00:30:00       3       3  3\n",
       "01:00:00       3       3  3\n",
       "01:30:00       3       3  3\n",
       "02:00:00       2       2  2\n",
       "02:30:00       2       2  2\n",
       "03:00:00       2       2  2\n",
       "03:30:00       2       2  2\n",
       "04:00:00       2       2  2\n",
       "04:30:00       2       2  2\n",
       "05:00:00       2       2  2\n",
       "05:30:00       2       2  2\n",
       "06:00:00       2       2  2\n",
       "06:30:00       2       2  2\n",
       "07:00:00       2       2  2\n",
       "07:30:00       2       2  2\n",
       "08:00:00       2       2  2\n",
       "08:30:00       2       2  2\n",
       "09:00:00       2       2  2\n",
       "09:30:00       2       2  2\n",
       "10:00:00       2       2  2\n",
       "10:30:00       2       2  2\n",
       "11:00:00       2       2  2\n",
       "11:30:00       2       2  2\n",
       "12:00:00       2       2  2\n",
       "12:30:00       2       2  2\n",
       "13:00:00       2       2  2\n",
       "13:30:00       2       2  2\n",
       "14:00:00       2       2  2\n",
       "14:30:00       2       2  2\n",
       "15:00:00       2       2  2\n",
       "15:30:00       2       2  2\n",
       "16:00:00       2       2  2\n",
       "16:30:00       2       2  2\n",
       "17:00:00       2       2  2\n",
       "17:30:00       2       2  2\n",
       "18:00:00       2       2  2\n",
       "18:30:00       2       2  2\n",
       "19:00:00       2       2  2\n",
       "19:30:00       2       2  2\n",
       "20:00:00       2       2  2\n",
       "20:30:00       2       2  2\n",
       "21:00:00       2       2  2\n",
       "21:30:00       2       2  2\n",
       "22:00:00       2       2  2\n",
       "22:30:00       2       2  2\n",
       "23:00:00       2       2  2\n",
       "23:30:00       2       2  2"
      ]
     },
     "execution_count": 155,
     "metadata": {},
     "output_type": "execute_result"
    }
   ],
   "source": [
    "df.groupby(by=df['date01'].dt.time).count()"
   ]
  },
  {
   "cell_type": "code",
   "execution_count": null,
   "metadata": {},
   "outputs": [],
   "source": []
  },
  {
   "cell_type": "code",
   "execution_count": 200,
   "metadata": {},
   "outputs": [
    {
     "data": {
      "text/plain": [
       "date01    55\n",
       "time01    55\n",
       "s         55\n",
       "dtype: int64"
      ]
     },
     "execution_count": 200,
     "metadata": {},
     "output_type": "execute_result"
    }
   ],
   "source": [
    "df.loc[df['s']>0.5].count()"
   ]
  },
  {
   "cell_type": "code",
   "execution_count": null,
   "metadata": {},
   "outputs": [],
   "source": []
  },
  {
   "cell_type": "code",
   "execution_count": 201,
   "metadata": {
    "collapsed": true,
    "jupyter": {
     "outputs_hidden": true
    }
   },
   "outputs": [
    {
     "data": {
      "text/plain": [
       "['00:00',\n",
       " '00:30',\n",
       " '01:00',\n",
       " '01:30',\n",
       " '02:00',\n",
       " '02:30',\n",
       " '03:00',\n",
       " '03:30',\n",
       " '04:00',\n",
       " '04:30',\n",
       " '05:00',\n",
       " '05:30',\n",
       " '06:00',\n",
       " '06:30',\n",
       " '07:00',\n",
       " '07:30',\n",
       " '08:00',\n",
       " '08:30',\n",
       " '09:00',\n",
       " '09:30',\n",
       " '10:00',\n",
       " '10:30',\n",
       " '11:00',\n",
       " '11:30',\n",
       " '12:00',\n",
       " '12:30',\n",
       " '13:00',\n",
       " '13:30',\n",
       " '14:00',\n",
       " '14:30',\n",
       " '15:00',\n",
       " '15:30',\n",
       " '16:00',\n",
       " '16:30',\n",
       " '17:00',\n",
       " '17:30',\n",
       " '18:00',\n",
       " '18:30',\n",
       " '19:00',\n",
       " '19:30',\n",
       " '20:00',\n",
       " '20:30',\n",
       " '21:00',\n",
       " '21:30',\n",
       " '22:00',\n",
       " '22:30',\n",
       " '23:00',\n",
       " '23:30']"
      ]
     },
     "execution_count": 201,
     "metadata": {},
     "output_type": "execute_result"
    }
   ],
   "source": [
    "# Para bar.x\n",
    "[i.strftime('%H:%M') for i in df.groupby(by=df['date01'].dt.time)['s'].count().index.to_list()]"
   ]
  },
  {
   "cell_type": "code",
   "execution_count": 212,
   "metadata": {
    "collapsed": true,
    "jupyter": {
     "outputs_hidden": true
    }
   },
   "outputs": [
    {
     "data": {
      "text/plain": [
       "[3,\n",
       " 3,\n",
       " 3,\n",
       " 3,\n",
       " 2,\n",
       " 2,\n",
       " 2,\n",
       " 2,\n",
       " 2,\n",
       " 2,\n",
       " 2,\n",
       " 2,\n",
       " 2,\n",
       " 2,\n",
       " 2,\n",
       " 2,\n",
       " 2,\n",
       " 2,\n",
       " 2,\n",
       " 2,\n",
       " 2,\n",
       " 2,\n",
       " 2,\n",
       " 2,\n",
       " 2,\n",
       " 2,\n",
       " 2,\n",
       " 2,\n",
       " 2,\n",
       " 2,\n",
       " 2,\n",
       " 2,\n",
       " 2,\n",
       " 2,\n",
       " 2,\n",
       " 2,\n",
       " 2,\n",
       " 2,\n",
       " 2,\n",
       " 2,\n",
       " 2,\n",
       " 2,\n",
       " 2,\n",
       " 2,\n",
       " 2,\n",
       " 2,\n",
       " 2,\n",
       " 2]"
      ]
     },
     "execution_count": 212,
     "metadata": {},
     "output_type": "execute_result"
    }
   ],
   "source": [
    "# Para bar.y\n",
    "df.groupby(by=df['date01'].dt.time)['s'].count().to_list()"
   ]
  },
  {
   "cell_type": "code",
   "execution_count": 222,
   "metadata": {
    "collapsed": true,
    "jupyter": {
     "outputs_hidden": true
    }
   },
   "outputs": [
    {
     "data": {
      "text/plain": [
       "['00:00',\n",
       " '00:30',\n",
       " '01:00',\n",
       " '01:30',\n",
       " '02:00',\n",
       " '02:30',\n",
       " '03:30',\n",
       " '04:00',\n",
       " '04:30',\n",
       " '05:00',\n",
       " '05:30',\n",
       " '06:00',\n",
       " '06:30',\n",
       " '07:00',\n",
       " '07:30',\n",
       " '09:00',\n",
       " '10:00',\n",
       " '10:30',\n",
       " '11:00',\n",
       " '12:00',\n",
       " '12:30',\n",
       " '13:30',\n",
       " '14:00',\n",
       " '14:30',\n",
       " '15:00',\n",
       " '16:00',\n",
       " '16:30',\n",
       " '17:00',\n",
       " '18:00',\n",
       " '19:00',\n",
       " '19:30',\n",
       " '20:00',\n",
       " '20:30',\n",
       " '21:00',\n",
       " '21:30',\n",
       " '22:00',\n",
       " '22:30',\n",
       " '23:00',\n",
       " '23:30']"
      ]
     },
     "execution_count": 222,
     "metadata": {},
     "output_type": "execute_result"
    }
   ],
   "source": [
    "# Para bar.x com .loc\n",
    "[i.strftime('%H:%M') for i in df.loc[df['s']>0.5].groupby(by=df['date01'].dt.time)['s'].count().index.to_list()]"
   ]
  },
  {
   "cell_type": "code",
   "execution_count": 220,
   "metadata": {
    "collapsed": true,
    "jupyter": {
     "outputs_hidden": true
    }
   },
   "outputs": [
    {
     "data": {
      "text/plain": [
       "[2,\n",
       " 2,\n",
       " 3,\n",
       " 1,\n",
       " 2,\n",
       " 1,\n",
       " 1,\n",
       " 1,\n",
       " 2,\n",
       " 1,\n",
       " 2,\n",
       " 1,\n",
       " 1,\n",
       " 1,\n",
       " 1,\n",
       " 2,\n",
       " 1,\n",
       " 2,\n",
       " 2,\n",
       " 1,\n",
       " 1,\n",
       " 1,\n",
       " 1,\n",
       " 1,\n",
       " 2,\n",
       " 2,\n",
       " 1,\n",
       " 1,\n",
       " 1,\n",
       " 1,\n",
       " 1,\n",
       " 1,\n",
       " 1,\n",
       " 1,\n",
       " 2,\n",
       " 2,\n",
       " 2,\n",
       " 1,\n",
       " 2]"
      ]
     },
     "execution_count": 220,
     "metadata": {},
     "output_type": "execute_result"
    }
   ],
   "source": [
    "# Para bar.y com .loc\n",
    "# df.groupby(by=df['date01'].dt.time).apply(lambda x: x['s']>0.5)\n",
    "# df.groupby(by=df['date01'].dt.time).agg()\n",
    "df.loc[df['s']>0.5].groupby(by=df['date01'].dt.time)['s'].count().to_list()"
   ]
  },
  {
   "cell_type": "code",
   "execution_count": null,
   "metadata": {},
   "outputs": [],
   "source": []
  },
  {
   "cell_type": "code",
   "execution_count": 159,
   "metadata": {},
   "outputs": [],
   "source": [
    "bar01.x = [i.strftime('%H:%M') for i in df.groupby(by=df['date01'].dt.time)['s'].count().index.to_list()]\n",
    "bar01.y = df.groupby(by=df['date01'].dt.time)['s'].count().to_list()"
   ]
  },
  {
   "cell_type": "code",
   "execution_count": null,
   "metadata": {},
   "outputs": [],
   "source": []
  },
  {
   "cell_type": "code",
   "execution_count": null,
   "metadata": {},
   "outputs": [],
   "source": []
  },
  {
   "cell_type": "code",
   "execution_count": 135,
   "metadata": {
    "collapsed": true,
    "jupyter": {
     "outputs_hidden": true
    }
   },
   "outputs": [
    {
     "data": {
      "text/plain": [
       "['00:00',\n",
       " '00:30',\n",
       " '01:00',\n",
       " '01:30',\n",
       " '02:00',\n",
       " '02:30',\n",
       " '03:00',\n",
       " '03:30',\n",
       " '04:00',\n",
       " '04:30',\n",
       " '05:00',\n",
       " '05:30',\n",
       " '06:00',\n",
       " '06:30',\n",
       " '07:00',\n",
       " '07:30',\n",
       " '08:00',\n",
       " '08:30',\n",
       " '09:00',\n",
       " '09:30',\n",
       " '10:00',\n",
       " '10:30',\n",
       " '11:00',\n",
       " '11:30',\n",
       " '12:00',\n",
       " '12:30',\n",
       " '13:00',\n",
       " '13:30',\n",
       " '14:00',\n",
       " '14:30',\n",
       " '15:00',\n",
       " '15:30',\n",
       " '16:00',\n",
       " '16:30',\n",
       " '17:00',\n",
       " '17:30',\n",
       " '18:00',\n",
       " '18:30',\n",
       " '19:00',\n",
       " '19:30',\n",
       " '20:00',\n",
       " '20:30',\n",
       " '21:00',\n",
       " '21:30',\n",
       " '22:00',\n",
       " '22:30',\n",
       " '23:00',\n",
       " '23:30']"
      ]
     },
     "execution_count": 135,
     "metadata": {},
     "output_type": "execute_result"
    }
   ],
   "source": [
    "[dt.time(hour=df.groupby(by=[df.date01.dt.hour, df.date01.dt.minute])['s'].count().index[i][0], minute=df.groupby(by=[df.date01.dt.hour, df.date01.dt.minute])['s'].count().index[i][1]).strftime('%H:%M') for i in range(len(df.groupby(by=[df.date01.dt.hour, df.date01.dt.minute])['s'].count().to_list()))]"
   ]
  },
  {
   "cell_type": "code",
   "execution_count": 41,
   "metadata": {},
   "outputs": [],
   "source": [
    "date00 = dt.time(hour=df.groupby(by=[df.date01.dt.hour, df.date01.dt.minute])['s'].count().index[0][0], minute=df.groupby(by=[df.date01.dt.hour, df.date01.dt.minute])['s'].count().index[0][1])"
   ]
  },
  {
   "cell_type": "code",
   "execution_count": 42,
   "metadata": {},
   "outputs": [
    {
     "data": {
      "text/plain": [
       "'00:00'"
      ]
     },
     "execution_count": 42,
     "metadata": {},
     "output_type": "execute_result"
    }
   ],
   "source": [
    "date00.strftime('%H:%M')"
   ]
  },
  {
   "cell_type": "code",
   "execution_count": 60,
   "metadata": {},
   "outputs": [],
   "source": [
    "bar01.x = [dt.time(hour=df.groupby(by=[df.date01.dt.hour, df.date01.dt.minute])['s'].count().index[i][0], minute=df.groupby(by=[df.date01.dt.hour, df.date01.dt.minute])['s'].count().index[i][1]).strftime('%H:%M') for i in range(len(df.groupby(by=[df.date01.dt.hour, df.date01.dt.minute])['s'].count().to_list()))]\n",
    "bar01.y = df.groupby(by=[df.date01.dt.hour, df.date01.dt.minute])['s'].count().to_list()"
   ]
  },
  {
   "cell_type": "code",
   "execution_count": 44,
   "metadata": {
    "collapsed": true,
    "jupyter": {
     "outputs_hidden": true
    }
   },
   "outputs": [
    {
     "data": {
      "text/plain": [
       "[3,\n",
       " 3,\n",
       " 3,\n",
       " 3,\n",
       " 2,\n",
       " 2,\n",
       " 2,\n",
       " 2,\n",
       " 2,\n",
       " 2,\n",
       " 2,\n",
       " 2,\n",
       " 2,\n",
       " 2,\n",
       " 2,\n",
       " 2,\n",
       " 2,\n",
       " 2,\n",
       " 2,\n",
       " 2,\n",
       " 2,\n",
       " 2,\n",
       " 2,\n",
       " 2,\n",
       " 2,\n",
       " 2,\n",
       " 2,\n",
       " 2,\n",
       " 2,\n",
       " 2,\n",
       " 2,\n",
       " 2,\n",
       " 2,\n",
       " 2,\n",
       " 2,\n",
       " 2,\n",
       " 2,\n",
       " 2,\n",
       " 2,\n",
       " 2,\n",
       " 2,\n",
       " 2,\n",
       " 2,\n",
       " 2,\n",
       " 2,\n",
       " 2,\n",
       " 2,\n",
       " 2]"
      ]
     },
     "execution_count": 44,
     "metadata": {},
     "output_type": "execute_result"
    }
   ],
   "source": [
    "df.groupby(by='time')['s'].count().to_list()"
   ]
  },
  {
   "cell_type": "code",
   "execution_count": 117,
   "metadata": {},
   "outputs": [
    {
     "data": {
      "application/vnd.jupyter.widget-view+json": {
       "model_id": "",
       "version_major": 2,
       "version_minor": 0
      },
      "text/plain": [
       "Figure(animation_duration=500, axes=[Axis(label='x', scale=OrdinalScale(domain=['00:00', '00:30', '01:00', '01…"
      ]
     },
     "metadata": {},
     "output_type": "display_data"
    }
   ],
   "source": [
    "display(fig01)"
   ]
  },
  {
   "cell_type": "code",
   "execution_count": 46,
   "metadata": {},
   "outputs": [],
   "source": [
    "import teste01"
   ]
  },
  {
   "cell_type": "code",
   "execution_count": 47,
   "metadata": {},
   "outputs": [
    {
     "data": {
      "application/vnd.jupyter.widget-view+json": {
       "model_id": "f89ad057d1204f5f8e5e45488887e5e8",
       "version_major": 2,
       "version_minor": 0
      },
      "text/plain": [
       "Tab(children=(Accordion(children=(VBox(children=(Button(description='Plot', style=ButtonStyle()), Figure(anima…"
      ]
     },
     "metadata": {},
     "output_type": "display_data"
    }
   ],
   "source": [
    "a = teste01.teste()"
   ]
  },
  {
   "cell_type": "code",
   "execution_count": null,
   "metadata": {},
   "outputs": [],
   "source": []
  },
  {
   "cell_type": "code",
   "execution_count": null,
   "metadata": {},
   "outputs": [],
   "source": []
  },
  {
   "cell_type": "code",
   "execution_count": 129,
   "metadata": {},
   "outputs": [],
   "source": [
    "a = np.random.uniform(low=0,high=10,size=(100,1))\n",
    "b = np.random.uniform(low=0,high=10,size=(1000,1))"
   ]
  },
  {
   "cell_type": "code",
   "execution_count": 25,
   "metadata": {},
   "outputs": [
    {
     "ename": "NameError",
     "evalue": "name 'bq' is not defined",
     "output_type": "error",
     "traceback": [
      "\u001b[1;31m---------------------------------------------------------------------------\u001b[0m",
      "\u001b[1;31mNameError\u001b[0m                                 Traceback (most recent call last)",
      "\u001b[1;32m<ipython-input-25-859729d62199>\u001b[0m in \u001b[0;36m<module>\u001b[1;34m\u001b[0m\n\u001b[1;32m----> 1\u001b[1;33m \u001b[0mfig\u001b[0m \u001b[1;33m=\u001b[0m \u001b[0mbq\u001b[0m\u001b[1;33m.\u001b[0m\u001b[0mFigure\u001b[0m\u001b[1;33m(\u001b[0m\u001b[0mmarks\u001b[0m\u001b[1;33m=\u001b[0m\u001b[1;33m[\u001b[0m\u001b[1;33m]\u001b[0m\u001b[1;33m,\u001b[0m \u001b[0maxes\u001b[0m\u001b[1;33m=\u001b[0m\u001b[1;33m[\u001b[0m\u001b[1;33m]\u001b[0m\u001b[1;33m)\u001b[0m\u001b[1;33m\u001b[0m\u001b[1;33m\u001b[0m\u001b[0m\n\u001b[0m",
      "\u001b[1;31mNameError\u001b[0m: name 'bq' is not defined"
     ]
    }
   ],
   "source": [
    "fig = bq.Figure(marks=[], axes=[])"
   ]
  },
  {
   "cell_type": "code",
   "execution_count": 24,
   "metadata": {},
   "outputs": [
    {
     "ename": "NameError",
     "evalue": "name 'bq' is not defined",
     "output_type": "error",
     "traceback": [
      "\u001b[1;31m---------------------------------------------------------------------------\u001b[0m",
      "\u001b[1;31mNameError\u001b[0m                                 Traceback (most recent call last)",
      "\u001b[1;32m<ipython-input-24-3391ba374951>\u001b[0m in \u001b[0;36m<module>\u001b[1;34m\u001b[0m\n\u001b[1;32m----> 1\u001b[1;33m \u001b[0mx_scale\u001b[0m \u001b[1;33m=\u001b[0m \u001b[0mbq\u001b[0m\u001b[1;33m.\u001b[0m\u001b[0mLinearScale\u001b[0m\u001b[1;33m(\u001b[0m\u001b[0mmin\u001b[0m\u001b[1;33m=\u001b[0m\u001b[1;36m0.5\u001b[0m\u001b[1;33m,\u001b[0m\u001b[0mmax\u001b[0m\u001b[1;33m=\u001b[0m\u001b[1;36m10.5\u001b[0m\u001b[1;33m)\u001b[0m\u001b[1;33m\u001b[0m\u001b[1;33m\u001b[0m\u001b[0m\n\u001b[0m\u001b[0;32m      2\u001b[0m \u001b[0mx_scale2\u001b[0m \u001b[1;33m=\u001b[0m \u001b[0mbq\u001b[0m\u001b[1;33m.\u001b[0m\u001b[0mLinearScale\u001b[0m\u001b[1;33m(\u001b[0m\u001b[0mmin\u001b[0m\u001b[1;33m=\u001b[0m\u001b[1;36m0.5\u001b[0m\u001b[1;33m,\u001b[0m \u001b[0mmax\u001b[0m\u001b[1;33m=\u001b[0m\u001b[1;36m10.5\u001b[0m\u001b[1;33m)\u001b[0m\u001b[1;33m\u001b[0m\u001b[1;33m\u001b[0m\u001b[0m\n\u001b[0;32m      3\u001b[0m \u001b[1;31m# x_scale = bq.Scale()\u001b[0m\u001b[1;33m\u001b[0m\u001b[1;33m\u001b[0m\u001b[1;33m\u001b[0m\u001b[0m\n\u001b[0;32m      4\u001b[0m \u001b[0my_scale\u001b[0m \u001b[1;33m=\u001b[0m \u001b[0mbq\u001b[0m\u001b[1;33m.\u001b[0m\u001b[0mLinearScale\u001b[0m\u001b[1;33m(\u001b[0m\u001b[1;33m)\u001b[0m\u001b[1;33m\u001b[0m\u001b[1;33m\u001b[0m\u001b[0m\n\u001b[0;32m      5\u001b[0m \u001b[0mx_axis\u001b[0m \u001b[1;33m=\u001b[0m \u001b[0mbq\u001b[0m\u001b[1;33m.\u001b[0m\u001b[0mAxis\u001b[0m\u001b[1;33m(\u001b[0m\u001b[0mscale\u001b[0m\u001b[1;33m=\u001b[0m\u001b[0mx_scale\u001b[0m\u001b[1;33m,\u001b[0m \u001b[0mlabel\u001b[0m\u001b[1;33m=\u001b[0m\u001b[1;34m'x'\u001b[0m\u001b[1;33m)\u001b[0m\u001b[1;33m\u001b[0m\u001b[1;33m\u001b[0m\u001b[0m\n",
      "\u001b[1;31mNameError\u001b[0m: name 'bq' is not defined"
     ]
    }
   ],
   "source": [
    "x_scale = bq.LinearScale(min=0.5,max=10.5)\n",
    "x_scale2 = bq.LinearScale(min=0.5, max=10.5)\n",
    "# x_scale = bq.Scale()\n",
    "y_scale = bq.LinearScale()\n",
    "x_axis = bq.Axis(scale=x_scale, label='x')\n",
    "y_axis = bq.Axis(scale=y_scale, label='y', orientation='vertical')\n",
    "\n",
    "fig.axes = [x_axis, y_axis]\n",
    "hist = bq.Hist(sample=a, bins=10,scales={'sample':x_scale, 'count':y_scale})\n",
    "hist2 = bq.Hist(sample=b, bins=10,scales={'sample':x_scale2, 'count':y_scale})\n",
    "\n",
    "fig.marks = [hist, hist2]"
   ]
  },
  {
   "cell_type": "code",
   "execution_count": 132,
   "metadata": {},
   "outputs": [
    {
     "data": {
      "application/vnd.jupyter.widget-view+json": {
       "model_id": "809de0a43050482d9e9883b1c7c1a29b",
       "version_major": 2,
       "version_minor": 0
      },
      "text/plain": [
       "Figure(axes=[Axis(label='x', scale=LinearScale(max=10.5, min=0.5), side='bottom'), Axis(label='y', orientation…"
      ]
     },
     "metadata": {},
     "output_type": "display_data"
    }
   ],
   "source": [
    "display(fig)"
   ]
  },
  {
   "cell_type": "code",
   "execution_count": 133,
   "metadata": {},
   "outputs": [
    {
     "data": {
      "text/plain": [
       "[1, 2, 3, 4, 5, 6, 7, 8, 9, 10]"
      ]
     },
     "execution_count": 133,
     "metadata": {},
     "output_type": "execute_result"
    }
   ],
   "source": [
    "hist.midpoints"
   ]
  },
  {
   "cell_type": "code",
   "execution_count": 134,
   "metadata": {},
   "outputs": [
    {
     "data": {
      "text/plain": [
       "[1, 2, 3, 4, 5, 6, 7, 8, 9, 10]"
      ]
     },
     "execution_count": 134,
     "metadata": {},
     "output_type": "execute_result"
    }
   ],
   "source": [
    "hist2.midpoints"
   ]
  },
  {
   "cell_type": "code",
   "execution_count": null,
   "metadata": {},
   "outputs": [],
   "source": []
  }
 ],
 "metadata": {
  "kernelspec": {
   "display_name": "LHC_Hidroweb",
   "language": "python",
   "name": "lhc_hidroweb"
  },
  "language_info": {
   "codemirror_mode": {
    "name": "ipython",
    "version": 3
   },
   "file_extension": ".py",
   "mimetype": "text/x-python",
   "name": "python",
   "nbconvert_exporter": "python",
   "pygments_lexer": "ipython3",
   "version": "3.7.6"
  }
 },
 "nbformat": 4,
 "nbformat_minor": 4
}
