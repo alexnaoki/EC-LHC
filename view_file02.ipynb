{
 "cells": [
  {
   "cell_type": "code",
   "execution_count": 1,
   "metadata": {},
   "outputs": [],
   "source": [
    "%load_ext autoreload\n",
    "%autoreload 2"
   ]
  },
  {
   "cell_type": "markdown",
   "metadata": {},
   "source": [
    "C:\\Users\\alex-\\Mestrado\\Test_Results\\EddyPro_results_try02"
   ]
  },
  {
   "cell_type": "markdown",
   "metadata": {},
   "source": [
    "C:\\Users\\alex-\\Mestrado\\Test_Results\\EddyPro_results_try02\\p01_01_r04\\eddypro_binned_cospectra"
   ]
  },
  {
   "cell_type": "markdown",
   "metadata": {},
   "source": [
    "C:\\Users\\alex-\\Mestrado\\Test_Results\\EddyPro_results_try02\\p02_01_r04\\eddypro_binned_cospectra"
   ]
  },
  {
   "cell_type": "markdown",
   "metadata": {},
   "source": [
    "#### p01_00\n",
    "C:\\Users\\alex-\\Mestrado\\Test_Results\\EddyPro_results_metafile04\\p01_00\\eddypro_binned_cospectra\n",
    "\n",
    "#### p02_00\n",
    "C:\\Users\\alex-\\Mestrado\\Test_Results\\EddyPro_results_metafile04\\p02_00\\eddypro_binned_cospectra\n",
    "\n",
    "#### p03_00\n",
    "C:\\Users\\alex-\\Mestrado\\Test_Results\\EddyPro_results_metafile04\\p03_00\\eddypro_binned_cospectra"
   ]
  },
  {
   "cell_type": "code",
   "execution_count": null,
   "metadata": {},
   "outputs": [],
   "source": []
  },
  {
   "cell_type": "code",
   "execution_count": 2,
   "metadata": {},
   "outputs": [],
   "source": [
    "import view_files02"
   ]
  },
  {
   "cell_type": "code",
   "execution_count": 3,
   "metadata": {},
   "outputs": [
    {
     "data": {
      "application/vnd.jupyter.widget-view+json": {
       "model_id": "f80db82eb731492d88ba98142e12786c",
       "version_major": 2,
       "version_minor": 0
      },
      "text/plain": [
       "Tab(children=(VBox(children=(HBox(children=(Text(value='', layout=Layout(width='90%'), placeholder='Insert Fol…"
      ]
     },
     "metadata": {},
     "output_type": "display_data"
    }
   ],
   "source": [
    "a = view_files02.Viewer()"
   ]
  },
  {
   "cell_type": "code",
   "execution_count": null,
   "metadata": {},
   "outputs": [],
   "source": []
  },
  {
   "cell_type": "code",
   "execution_count": null,
   "metadata": {},
   "outputs": [],
   "source": []
  }
 ],
 "metadata": {
  "kernelspec": {
   "display_name": "LHC_Hidroweb",
   "language": "python",
   "name": "lhc_hidroweb"
  },
  "language_info": {
   "codemirror_mode": {
    "name": "ipython",
    "version": 3
   },
   "file_extension": ".py",
   "mimetype": "text/x-python",
   "name": "python",
   "nbconvert_exporter": "python",
   "pygments_lexer": "ipython3",
   "version": "3.7.6"
  }
 },
 "nbformat": 4,
 "nbformat_minor": 4
}
